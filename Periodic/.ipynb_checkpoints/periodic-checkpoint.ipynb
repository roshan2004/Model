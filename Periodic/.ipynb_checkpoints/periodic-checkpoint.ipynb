{
 "cells": [
  {
   "cell_type": "code",
   "execution_count": 1,
   "id": "cc177d9f-970c-4cfc-bdcb-a93650e081c7",
   "metadata": {},
   "outputs": [
    {
     "name": "stderr",
     "output_type": "stream",
     "text": [
      "/home/rshrestha/.local/lib/python3.9/site-packages/MDAnalysis/core/universe.py:449: UserWarning: Residues specified but no atom_resindex given.  All atoms will be placed in first Residue.\n",
      "  warnings.warn(\n",
      "/home/rshrestha/.local/lib/python3.9/site-packages/MDAnalysis/core/universe.py:455: UserWarning: Segments specified but no segment_resindex given.  All residues will be placed in first Segment\n",
      "  warnings.warn(\n",
      "/home/rshrestha/.local/lib/python3.9/site-packages/MDAnalysis/coordinates/GRO.py:422: UserWarning: Supplied AtomGroup was missing the following attributes: resids. These will be written with default values. Alternatively these can be supplied as keyword arguments.\n",
      "  warnings.warn(\n",
      "/home/rshrestha/.local/lib/python3.9/site-packages/MDAnalysis/coordinates/GRO.py:480: UserWarning: missing dimension - setting unit cell to zeroed box [0., 0., 0.]\n",
      "  warnings.warn(wmsg)\n",
      "/home/rshrestha/.local/lib/python3.9/site-packages/MDAnalysis/coordinates/GRO.py:229: UserWarning: Empty box [0., 0., 0.] found - treating as missing unit cell. Dimensions set to `None`.\n",
      "  warnings.warn(wmsg)\n"
     ]
    }
   ],
   "source": [
    "import numpy as np\n",
    "import MDAnalysis as mda\n",
    "from MDAnalysis.lib.distances import calc_angles, calc_bonds, calc_dihedrals\n",
    "import argparse\n",
    "from itertools import cycle\n",
    "rows = 6\n",
    "columns = 6\n",
    "positions = []\n",
    "dist = 0\n",
    "for i in range(rows):\n",
    "    if i % 2 == 0:\n",
    "        x = np.linspace(0, (0+(columns-1)*2.56), columns)\n",
    "        for k in range(len(x)):\n",
    "            positions.append([x[k], dist, 0])\n",
    "        dist += 2.217\n",
    "\n",
    "    else:\n",
    "        x = np.linspace(-1.28, (-1.28+(columns-1)*2.56), columns)\n",
    "        for k in range(len(x)):\n",
    "            positions.append([x[k], dist, 0])\n",
    "        dist += 2.217\n",
    "w = mda.Universe.empty(n_atoms=len(positions), trajectory=True)\n",
    "w.atoms.positions = positions\n",
    "w.add_TopologyAttr('names')\n",
    "w.atoms.names = [f'B{i}' for i in range(1, w.atoms.n_atoms + 1)]\n",
    "w.add_TopologyAttr('resnames')\n",
    "w.residues.resnames = ['GRA']\n",
    "w.atoms.write('test.gro')\n",
    "\n",
    "u = mda.Universe('test.gro')\n",
    "c = np.unique(u.atoms.positions[:, 1])\n",
    "\n",
    "u.atoms.masses = 36"
   ]
  },
  {
   "cell_type": "code",
   "execution_count": 12,
   "id": "27b2a0f9-d6e3-470b-ac49-de173d45ac4e",
   "metadata": {},
   "outputs": [
    {
     "name": "stdout",
     "output_type": "stream",
     "text": [
      "[[0, 1, 6, 8, 12, 13, 7], [3, 4, 9, 11, 15, 16, 10], [8, 9, 13, 15, 20, 21, 14], [12, 13, 18, 20, 24, 25, 19], [15, 16, 21, 23, 27, 28, 22], [20, 21, 25, 27, 32, 33, 26], [24, 25, 30, 32, 0, 1], [32, 33, 1, 3, 8, 9], [27, 28, 33, 35, 3, 4]]\n"
     ]
    }
   ],
   "source": [
    "for j in range(len(c)):\n",
    "    if j == 0:\n",
    "        group = u.atoms[u.atoms.positions[:, 1] == c[j]]\n",
    "        idx = group.atoms.indices\n",
    "        gr = np.arange(idx[2], idx[-1]+1, 3)\n",
    "        for k in gr:\n",
    "            u.atoms[k].mass = 0\n",
    "    elif (j != len(c) - 1) and (j % 2 != 0) and (j != 0):\n",
    "        group = u.atoms[u.atoms.positions[:, 1] == c[j]]\n",
    "        gr = np.arange(1, len(group), 3)\n",
    "\n",
    "        for k in gr:\n",
    "            u.atoms[group[k].index].mass = 0\n",
    "    elif (j != len(c) - 1) and (j % 2 == 0) and (j != 0):\n",
    "        group = u.atoms[u.atoms.positions[:, 1] == c[j]]\n",
    "        gr = np.arange(2, len(group), 3)\n",
    "\n",
    "        for k in gr:\n",
    "            u.atoms[group[k].index].mass = 0\n",
    "\n",
    "    elif j == len(c) - 1:\n",
    "        group = u.atoms[u.atoms.positions[:, 1] == c[j]]\n",
    "        idx = group.atoms.indices\n",
    "        gr = np.arange(idx[1], idx[-1]+1, 3)\n",
    "        for k in gr:\n",
    "            u.atoms[k].mass = 0\n",
    "\n",
    "\n",
    "def regroup_lower(lst):\n",
    "    final = []\n",
    "\n",
    "    threes = [lst[i:i+3] for i in range(0, len(lst), 3)]\n",
    "    for l, r in zip(threes, threes[1:]):\n",
    "        final.append(l)\n",
    "        final.append([l[-1], r[0]])\n",
    "    if len(threes[-1]) > 1:\n",
    "        final.append(threes[-1])\n",
    "\n",
    "    data = []\n",
    "    for i in final:\n",
    "        if len(i) == 3:\n",
    "            data.append([i[0], i[-1]])\n",
    "        else:\n",
    "            data.append(i)\n",
    "    return data\n",
    "\n",
    "\n",
    "def regroup_upper(lst):\n",
    "    sublists = []\n",
    "    data = []\n",
    "\n",
    "    for idx in range(0, len(lst), 3):\n",
    "        pair = lst[idx:idx+2]\n",
    "        triplet = lst[idx+1:idx+4]\n",
    "\n",
    "        if len(pair) == 2:\n",
    "            sublists.append(pair)\n",
    "\n",
    "        if len(triplet) == 3:\n",
    "            sublists.append(triplet)\n",
    "    for i in sublists:\n",
    "        if len(i) == 3:\n",
    "            data.append([i[0], i[-1]])\n",
    "        else:\n",
    "            data.append(i)\n",
    "    return data\n",
    "\n",
    "def hexagon(universe):\n",
    "    idx_top = u.atoms[u.atoms.positions[:, 1] == c[0]]\n",
    "    idx_bottom = u.atoms[u.atoms.positions[:, 1] == c[-1]]\n",
    "\n",
    "    sel = u.atoms[(u.atoms.masses == 0)]\n",
    "    sel1 = sel.atoms[sel.atoms.positions[:, 0]\n",
    "                     == np.max(sel.atoms.positions[:, 0])]\n",
    "    idx = u.atoms - idx_top - idx_bottom - sel1\n",
    "\n",
    "    b = idx.atoms[idx.atoms.masses == 0].indices\n",
    "\n",
    "    hexagon_indices = []\n",
    "    for i in b:\n",
    "        empty = []\n",
    "        for j in u.atoms.indices:\n",
    "            if (2.55 <= calc_bonds(u.atoms[j].position, u.atoms[i].position) <= 2.57):\n",
    "                empty.append(j)\n",
    "        empty.append(i)\n",
    "        hexagon_indices.append(empty)\n",
    "\n",
    "    '''\n",
    "    Hexagons along the horizontal, or the x-axis\n",
    "    '''\n",
    "    upper = u.atoms[u.atoms.positions[:, 1] == c[0]]\n",
    "    lower = u.atoms[u.atoms.positions[:, 1] == c[-1]]\n",
    "    upper_down = u.atoms[u.atoms.positions[:, 1] == c[1]]\n",
    "    lower_up = u.atoms[u.atoms.positions[:, 1] == c[-2]]\n",
    "\n",
    "    groups_upper = regroup_upper(upper.atoms.indices)\n",
    "    groups_lower = regroup_lower(lower.atoms.indices)\n",
    "    groups_upper_down = regroup_lower(upper_down.atoms.indices)\n",
    "    groups_lower_up = regroup_upper(lower_up.atoms.indices)\n",
    "\n",
    "    for i in range(len(groups_upper)):\n",
    "        if i % 2 == 0:\n",
    "            hexagon_indices.append([groups_lower_up[i][0], groups_lower_up[i][1], groups_lower[i]\n",
    "                                   [0], groups_lower[i][1], groups_upper[i][0], groups_upper[i][1]])\n",
    "\n",
    "        else:\n",
    "            hexagon_indices.append([groups_lower[i][0], groups_lower[i][1], groups_upper[i]\n",
    "                                   [0], groups_upper[i][1], groups_upper_down[i][0], groups_upper_down[i][1]])\n",
    "\n",
    "    return hexagon_indices\n",
    "\n",
    "\n",
    "hexagons = hexagon(u)\n",
    "\n",
    "print(hexagons)"
   ]
  },
  {
   "cell_type": "code",
   "execution_count": 3,
   "id": "98e3fa2d-95f9-4704-b2fe-3b31fca88a67",
   "metadata": {},
   "outputs": [
    {
     "data": {
      "text/plain": [
       "array([36., 36.,  0., 36., 36.,  0., 36.,  0., 36., 36.,  0., 36., 36.,\n",
       "       36.,  0., 36., 36.,  0., 36.,  0., 36., 36.,  0., 36., 36., 36.,\n",
       "        0., 36., 36.,  0., 36.,  0., 36., 36.,  0., 36.])"
      ]
     },
     "execution_count": 3,
     "metadata": {},
     "output_type": "execute_result"
    }
   ],
   "source": [
    "u.atoms.masses"
   ]
  },
  {
   "cell_type": "code",
   "execution_count": 4,
   "id": "f9bc388e-e316-42f7-a62b-297b8a6f7e2c",
   "metadata": {},
   "outputs": [
    {
     "data": {
      "text/plain": [
       "array([ 2,  5,  7, 10, 14, 17, 19, 22, 26, 29, 31, 34])"
      ]
     },
     "execution_count": 4,
     "metadata": {},
     "output_type": "execute_result"
    }
   ],
   "source": [
    "u.atoms[u.atoms.masses == 0].indices"
   ]
  },
  {
   "cell_type": "code",
   "execution_count": 8,
   "id": "99505c14-dfa4-472a-8d08-29aa904dd58a",
   "metadata": {},
   "outputs": [],
   "source": [
    "def virtual_sites(hexagons):\n",
    "    virtual_indices = []\n",
    "    for hex in hexagons:\n",
    "        virtual_indices.append([hex[0], hex[1], hex[-3], hex[-2]])\n",
    "    return virtual_indices\n",
    "    "
   ]
  },
  {
   "cell_type": "code",
   "execution_count": 10,
   "id": "9447f9dc-b6b9-4a5e-a5cf-19456452bcb5",
   "metadata": {},
   "outputs": [
    {
     "data": {
      "text/plain": [
       "[[0, 1, 12, 13],\n",
       " [3, 4, 15, 16],\n",
       " [8, 9, 20, 21],\n",
       " [12, 13, 24, 25],\n",
       " [15, 16, 27, 28],\n",
       " [20, 21, 32, 33],\n",
       " [24, 25, 0, 1],\n",
       " [32, 33, 8, 9],\n",
       " [27, 28, 3, 4]]"
      ]
     },
     "execution_count": 10,
     "metadata": {},
     "output_type": "execute_result"
    }
   ],
   "source": [
    "virtual_sites(hexagons)"
   ]
  },
  {
   "cell_type": "code",
   "execution_count": 13,
   "id": "e4400752-c3e5-4140-8ee7-c068b4844623",
   "metadata": {},
   "outputs": [],
   "source": [
    "idx_top = u.atoms[u.atoms.positions[:, 1] == c[0]]\n",
    "idx_bottom = u.atoms[u.atoms.positions[:, 1] == c[-1]]\n",
    "\n",
    "sel = u.atoms[(u.atoms.masses == 0)]\n",
    "sel1 = sel.atoms[sel.atoms.positions[:, 0]\n",
    "                     == np.max(sel.atoms.positions[:, 0])]\n",
    "idx = u.atoms - idx_top - idx_bottom - sel1\n",
    "\n",
    "b = idx.atoms[idx.atoms.masses == 0].indices"
   ]
  },
  {
   "cell_type": "code",
   "execution_count": 14,
   "id": "4b5ffa0c-06a1-44b7-9f35-e09f60c8ffc9",
   "metadata": {},
   "outputs": [
    {
     "data": {
      "text/plain": [
       "array([ 7, 10, 14, 19, 22, 26])"
      ]
     },
     "execution_count": 14,
     "metadata": {},
     "output_type": "execute_result"
    }
   ],
   "source": [
    "b"
   ]
  },
  {
   "cell_type": "code",
   "execution_count": 15,
   "id": "337be932-ec53-4ac1-ba2a-5074a8928a39",
   "metadata": {},
   "outputs": [],
   "source": [
    "upper = u.atoms[u.atoms.positions[:, 1] == c[0]]\n",
    "lower = u.atoms[u.atoms.positions[:, 1] == c[-1]]\n",
    "upper_down = u.atoms[u.atoms.positions[:, 1] == c[1]]\n",
    "lower_up = u.atoms[u.atoms.positions[:, 1] == c[-2]]\n",
    "\n",
    "groups_upper = regroup_upper(upper.atoms.indices)\n",
    "groups_lower = regroup_lower(lower.atoms.indices)\n",
    "groups_upper_down = regroup_lower(upper_down.atoms.indices)\n",
    "groups_lower_up = regroup_upper(lower_up.atoms.indices)"
   ]
  },
  {
   "cell_type": "code",
   "execution_count": 18,
   "id": "f771a9ef-76ea-44c8-9344-e21cee70a749",
   "metadata": {},
   "outputs": [
    {
     "data": {
      "text/plain": [
       "[array([0, 1]), [1, 3], array([3, 4])]"
      ]
     },
     "execution_count": 18,
     "metadata": {},
     "output_type": "execute_result"
    }
   ],
   "source": [
    "groups_upper"
   ]
  },
  {
   "cell_type": "code",
   "execution_count": 20,
   "id": "36aaf479-c865-4f14-aaff-1cc26110dbf3",
   "metadata": {},
   "outputs": [
    {
     "data": {
      "text/plain": [
       "array([0, 1, 2, 3, 4, 5])"
      ]
     },
     "execution_count": 20,
     "metadata": {},
     "output_type": "execute_result"
    }
   ],
   "source": [
    "upper.atoms.indices"
   ]
  },
  {
   "cell_type": "code",
   "execution_count": 21,
   "id": "f7336a61-e723-41f2-8388-1280fdd54b79",
   "metadata": {},
   "outputs": [
    {
     "data": {
      "text/plain": [
       "array([30, 31, 32, 33, 34, 35])"
      ]
     },
     "execution_count": 21,
     "metadata": {},
     "output_type": "execute_result"
    }
   ],
   "source": [
    "lower.atoms.indices"
   ]
  },
  {
   "cell_type": "code",
   "execution_count": 26,
   "id": "0cbd076c-3326-4809-9157-08918b319fc3",
   "metadata": {},
   "outputs": [],
   "source": [
    "indices = lower.atoms.indices"
   ]
  },
  {
   "cell_type": "code",
   "execution_count": 31,
   "id": "49bba302-3b1b-41e4-9145-5a97b12988d0",
   "metadata": {},
   "outputs": [],
   "source": [
    "for i in range(len(indices), 3):\n",
    "    print(indices[i])"
   ]
  },
  {
   "cell_type": "code",
   "execution_count": 45,
   "id": "ba13a8c7-9f70-4876-8c6b-ed385c83509a",
   "metadata": {},
   "outputs": [
    {
     "data": {
      "text/plain": [
       "array([1, 4])"
      ]
     },
     "execution_count": 45,
     "metadata": {},
     "output_type": "execute_result"
    }
   ],
   "source": [
    "np.arange(1, len(indices), 3)"
   ]
  },
  {
   "cell_type": "code",
   "execution_count": 46,
   "id": "182a120b-8d53-4bab-9e0c-32e65cfbae7f",
   "metadata": {},
   "outputs": [
    {
     "name": "stdout",
     "output_type": "stream",
     "text": [
      "31\n",
      "34\n"
     ]
    }
   ],
   "source": [
    "for j in np.arange(1, len(indices), 3):\n",
    "    print(lower.atoms.indices[j])"
   ]
  },
  {
   "cell_type": "code",
   "execution_count": 47,
   "id": "8167a80b-0ab2-42a1-861a-df89f8cef7e3",
   "metadata": {},
   "outputs": [
    {
     "data": {
      "text/plain": [
       "array([0, 1, 2, 3, 4, 5])"
      ]
     },
     "execution_count": 47,
     "metadata": {},
     "output_type": "execute_result"
    }
   ],
   "source": [
    "upper.atoms.indices"
   ]
  },
  {
   "cell_type": "code",
   "execution_count": 49,
   "id": "e48b4a1f-fedd-4dc1-9545-39c9e3b842dc",
   "metadata": {},
   "outputs": [
    {
     "name": "stdout",
     "output_type": "stream",
     "text": [
      "2\n",
      "4\n"
     ]
    }
   ],
   "source": [
    "for j in np.arange(2, len(indices), 2):\n",
    "    print(upper.atoms.indices[j])"
   ]
  },
  {
   "cell_type": "code",
   "execution_count": 51,
   "id": "7f0f22c8-95b9-42b5-a61a-614681bfb6b0",
   "metadata": {},
   "outputs": [
    {
     "data": {
      "text/plain": [
       "[[30, 32], [32, 33], [33, 35]]"
      ]
     },
     "execution_count": 51,
     "metadata": {},
     "output_type": "execute_result"
    }
   ],
   "source": [
    "groups_lower"
   ]
  },
  {
   "cell_type": "code",
   "execution_count": 52,
   "id": "45bffb95-2b91-40d7-8c58-dac146b2a994",
   "metadata": {},
   "outputs": [],
   "source": [
    "upper = u.atoms[u.atoms.positions[:, 1] == c[0]]\n",
    "lower = u.atoms[u.atoms.positions[:, 1] == c[-1]]\n",
    "upper_down = u.atoms[u.atoms.positions[:, 1] == c[1]]\n",
    "lower_up = u.atoms[u.atoms.positions[:, 1] == c[-2]]"
   ]
  },
  {
   "cell_type": "code",
   "execution_count": 53,
   "id": "953c894c-4226-4c06-acfe-c848360686f0",
   "metadata": {},
   "outputs": [
    {
     "data": {
      "text/plain": [
       "<AtomGroup with 6 atoms>"
      ]
     },
     "execution_count": 53,
     "metadata": {},
     "output_type": "execute_result"
    }
   ],
   "source": [
    "upper"
   ]
  },
  {
   "cell_type": "code",
   "execution_count": 55,
   "id": "4d93df47-a33f-4c91-93d1-804bfaba38ed",
   "metadata": {},
   "outputs": [
    {
     "data": {
      "text/plain": [
       "array([2, 5])"
      ]
     },
     "execution_count": 55,
     "metadata": {},
     "output_type": "execute_result"
    }
   ],
   "source": [
    "upper.atoms[upper.atoms.masses == 0].indices"
   ]
  },
  {
   "cell_type": "code",
   "execution_count": 77,
   "id": "14f2f3c0-53f2-42e7-9de8-e15031dc1f95",
   "metadata": {},
   "outputs": [],
   "source": [
    "def regroup_lower(lst):\n",
    "    final = []\n",
    "\n",
    "    threes = [lst[i:i+3] for i in range(0, len(lst), 3)]\n",
    "    for l, r in zip(threes, threes[1:]):\n",
    "        final.append(l)\n",
    "        final.append([l[-1], r[0]])\n",
    "    if len(threes[-1]) > 1:\n",
    "        final.append(threes[-1])\n",
    "\n",
    "    data = []\n",
    "    for i in final:\n",
    "        if len(i) == 3:\n",
    "            data.append(i)\n",
    "        else:\n",
    "            data.append(i)\n",
    "    return data"
   ]
  },
  {
   "cell_type": "code",
   "execution_count": 66,
   "id": "13f580fb-e60d-49ed-b15f-12cc8d73370f",
   "metadata": {},
   "outputs": [
    {
     "data": {
      "text/plain": [
       "[array([30, 31, 32]), [32, 33], array([33, 34, 35])]"
      ]
     },
     "execution_count": 66,
     "metadata": {},
     "output_type": "execute_result"
    }
   ],
   "source": [
    "regroup_lower(lower.atoms.indices)"
   ]
  },
  {
   "cell_type": "code",
   "execution_count": 58,
   "id": "19534769-b955-4791-9fcd-2d018a4a8dab",
   "metadata": {},
   "outputs": [],
   "source": [
    "threes = [lower.atoms.indices[i:i+3] for i in range(0, len(lower.atoms.indices), 3)]"
   ]
  },
  {
   "cell_type": "code",
   "execution_count": 59,
   "id": "d8e6f3b8-0907-4dcd-91d8-742ba67411bf",
   "metadata": {},
   "outputs": [
    {
     "data": {
      "text/plain": [
       "[array([30, 31, 32]), array([33, 34, 35])]"
      ]
     },
     "execution_count": 59,
     "metadata": {},
     "output_type": "execute_result"
    }
   ],
   "source": [
    "threes"
   ]
  },
  {
   "cell_type": "code",
   "execution_count": 62,
   "id": "7423fb66-8297-45e1-9b17-8c362341b7d8",
   "metadata": {},
   "outputs": [],
   "source": [
    "lst = []\n",
    "for l, r in zip(threes, threes[1:]):\n",
    "    lst.append(l)\n",
    "    lst.append([l[-1], r[0]])\n",
    "    "
   ]
  },
  {
   "cell_type": "code",
   "execution_count": 65,
   "id": "05079608-508c-4492-9921-62aeae1f1c70",
   "metadata": {},
   "outputs": [
    {
     "data": {
      "text/plain": [
       "[array([30, 31, 32]), [32, 33]]"
      ]
     },
     "execution_count": 65,
     "metadata": {},
     "output_type": "execute_result"
    }
   ],
   "source": [
    "lst"
   ]
  },
  {
   "cell_type": "code",
   "execution_count": 78,
   "id": "7b421324-459e-4fc3-8f8f-7d1a4b2ba35b",
   "metadata": {},
   "outputs": [],
   "source": [
    "def regroup_upper(lst):\n",
    "    sublists = []\n",
    "    data = []\n",
    "\n",
    "    for idx in range(0, len(lst), 3):\n",
    "        pair = lst[idx:idx+2]\n",
    "        triplet = lst[idx+1:idx+4]\n",
    "\n",
    "        if len(pair) == 2:\n",
    "            sublists.append(pair)\n",
    "\n",
    "        if len(triplet) == 3:\n",
    "            sublists.append(triplet)\n",
    "    for i in sublists:\n",
    "        if len(i) == 3:\n",
    "            data.append(i)\n",
    "        else:\n",
    "            data.append(i)\n",
    "    return data"
   ]
  },
  {
   "cell_type": "code",
   "execution_count": 79,
   "id": "16206cf8-bf36-4d57-89c3-9c321f61126a",
   "metadata": {},
   "outputs": [
    {
     "data": {
      "text/plain": [
       "[array([0, 1]), array([1, 2, 3]), array([3, 4])]"
      ]
     },
     "execution_count": 79,
     "metadata": {},
     "output_type": "execute_result"
    }
   ],
   "source": [
    "groups_upper = regroup_upper(upper.atoms.indices)\n",
    "groups_upper"
   ]
  },
  {
   "cell_type": "code",
   "execution_count": 80,
   "id": "622376a4-8145-42b7-8934-a75270c48bc6",
   "metadata": {},
   "outputs": [
    {
     "data": {
      "text/plain": [
       "[array([30, 31, 32]), [32, 33], array([33, 34, 35])]"
      ]
     },
     "execution_count": 80,
     "metadata": {},
     "output_type": "execute_result"
    }
   ],
   "source": [
    "groups_lower = regroup_lower(lower.atoms.indices)\n",
    "groups_lower"
   ]
  },
  {
   "cell_type": "code",
   "execution_count": 81,
   "id": "4f122896-888f-4091-8c9b-68b422fb9758",
   "metadata": {},
   "outputs": [],
   "source": [
    "hexagon_indices = []"
   ]
  },
  {
   "cell_type": "code",
   "execution_count": 82,
   "id": "522eab8b-b436-4261-8471-9aa8ecf48d3b",
   "metadata": {},
   "outputs": [
    {
     "data": {
      "text/plain": [
       "[array([24, 25]), [25, 27], array([27, 28])]"
      ]
     },
     "execution_count": 82,
     "metadata": {},
     "output_type": "execute_result"
    }
   ],
   "source": [
    "groups_lower_up"
   ]
  },
  {
   "cell_type": "code",
   "execution_count": 83,
   "id": "de0e2842-3826-4ab2-9b18-ed6f744da194",
   "metadata": {},
   "outputs": [],
   "source": [
    "groups_upper = regroup_upper(upper.atoms.indices)\n",
    "groups_lower = regroup_lower(lower.atoms.indices)\n",
    "groups_upper_down = regroup_lower(upper_down.atoms.indices)\n",
    "groups_lower_up = regroup_upper(lower_up.atoms.indices)"
   ]
  },
  {
   "cell_type": "code",
   "execution_count": null,
   "id": "d6cf2cae-4e9b-463c-8dcb-d3be94b91aa8",
   "metadata": {},
   "outputs": [],
   "source": [
    "for i in range(len(groups_upper)):\n",
    "        if i % 2 == 0:\n",
    "            hexagon_indices.append([groups_lower_up[i][0], groups_lower_up[i][1], groups_lower[i]\n",
    "                                   [0], groups_lower[i][1], groups_upper[i][0], groups_upper[i][1]])\n",
    "\n",
    "        else:\n",
    "            hexagon_indices.append([groups_lower[i][0], groups_lower[i][1], groups_upper[i]\n",
    "                                   [0], groups_upper[i][1], groups_upper_down[i][0], groups_upper_down[i][1]])"
   ]
  },
  {
   "cell_type": "code",
   "execution_count": 84,
   "id": "189ff782-871b-422f-a726-0ae5d1aa31a6",
   "metadata": {},
   "outputs": [
    {
     "data": {
      "text/plain": [
       "[array([0, 1]), array([1, 2, 3]), array([3, 4])]"
      ]
     },
     "execution_count": 84,
     "metadata": {},
     "output_type": "execute_result"
    }
   ],
   "source": [
    "groups_upper"
   ]
  },
  {
   "cell_type": "code",
   "execution_count": 85,
   "id": "9ae93a9f-7016-4d3e-ab21-98aa63092468",
   "metadata": {},
   "outputs": [
    {
     "data": {
      "text/plain": [
       "[array([30, 31, 32]), [32, 33], array([33, 34, 35])]"
      ]
     },
     "execution_count": 85,
     "metadata": {},
     "output_type": "execute_result"
    }
   ],
   "source": [
    "groups_lower"
   ]
  },
  {
   "cell_type": "code",
   "execution_count": 86,
   "id": "b9cf9681-4729-4bb7-be79-3674df1955da",
   "metadata": {},
   "outputs": [
    {
     "data": {
      "text/plain": [
       "[array([6, 7, 8]), [8, 9], array([ 9, 10, 11])]"
      ]
     },
     "execution_count": 86,
     "metadata": {},
     "output_type": "execute_result"
    }
   ],
   "source": [
    "groups_upper_down"
   ]
  },
  {
   "cell_type": "code",
   "execution_count": 87,
   "id": "4ca905e0-6272-438e-8407-ee099e4eb1ce",
   "metadata": {},
   "outputs": [
    {
     "data": {
      "text/plain": [
       "[array([24, 25]), array([25, 26, 27]), array([27, 28])]"
      ]
     },
     "execution_count": 87,
     "metadata": {},
     "output_type": "execute_result"
    }
   ],
   "source": [
    "groups_lower_up"
   ]
  },
  {
   "cell_type": "code",
   "execution_count": 101,
   "id": "9446f4dc-62de-413b-bc7a-390be785b834",
   "metadata": {},
   "outputs": [],
   "source": [
    "hexagon_indices = []"
   ]
  },
  {
   "cell_type": "code",
   "execution_count": 102,
   "id": "ad206991-f0b7-4fed-b6f0-403df667c5d4",
   "metadata": {},
   "outputs": [],
   "source": [
    "for i in range(len(groups_upper)):\n",
    "        if i % 2 == 0:\n",
    "            hexagon_indices.append([groups_lower_up[i][0], groups_lower_up[i][1], groups_lower[i]\n",
    "                                   [0], groups_lower[i][2], groups_upper[i][0], groups_upper[i][1], groups_lower[i][1]])\n",
    "\n",
    "        else:\n",
    "            hexagon_indices.append([groups_lower[i][0], groups_lower[i][1], groups_upper[i]\n",
    "                                   [0], groups_upper[i][2], groups_upper_down[i][0], groups_upper_down[i][1], groups_upper[i][1]])"
   ]
  },
  {
   "cell_type": "code",
   "execution_count": 103,
   "id": "25a2598f-2f6a-450f-b601-493bfcf29595",
   "metadata": {},
   "outputs": [
    {
     "data": {
      "text/plain": [
       "[[24, 25, 30, 32, 0, 1, 31],\n",
       " [32, 33, 1, 3, 8, 9, 2],\n",
       " [27, 28, 33, 35, 3, 4, 34]]"
      ]
     },
     "execution_count": 103,
     "metadata": {},
     "output_type": "execute_result"
    }
   ],
   "source": [
    "hexagon_indices"
   ]
  },
  {
   "cell_type": "code",
   "execution_count": 93,
   "id": "a3bebac8-795a-4f1a-9ce2-643b4d8428e1",
   "metadata": {},
   "outputs": [
    {
     "data": {
      "text/plain": [
       "[array([24, 25]), array([25, 26, 27]), array([27, 28])]"
      ]
     },
     "execution_count": 93,
     "metadata": {},
     "output_type": "execute_result"
    }
   ],
   "source": [
    "groups_lower_up"
   ]
  },
  {
   "cell_type": "code",
   "execution_count": 94,
   "id": "138acb31-d095-4200-a5dd-b3847eb54c91",
   "metadata": {},
   "outputs": [
    {
     "data": {
      "text/plain": [
       "[array([30, 31, 32]), [32, 33], array([33, 34, 35])]"
      ]
     },
     "execution_count": 94,
     "metadata": {},
     "output_type": "execute_result"
    }
   ],
   "source": [
    "groups_lower"
   ]
  },
  {
   "cell_type": "code",
   "execution_count": 96,
   "id": "e98af681-2dde-4c1e-921f-7244d281e203",
   "metadata": {},
   "outputs": [
    {
     "data": {
      "text/plain": [
       "32"
      ]
     },
     "execution_count": 96,
     "metadata": {},
     "output_type": "execute_result"
    }
   ],
   "source": [
    "groups_lower[0][2]"
   ]
  },
  {
   "cell_type": "code",
   "execution_count": 106,
   "id": "27c4c1c0-28da-44a0-a710-d50cc1ef8e7b",
   "metadata": {},
   "outputs": [],
   "source": [
    "hexagon_indices = []\n",
    "\n",
    "def regroup_lower(lst):\n",
    "    final = []\n",
    "\n",
    "    threes = [lst[i:i+3] for i in range(0, len(lst), 3)]\n",
    "    for l, r in zip(threes, threes[1:]):\n",
    "        final.append(l)\n",
    "        final.append([l[-1], r[0]])\n",
    "    if len(threes[-1]) > 1:\n",
    "        final.append(threes[-1])\n",
    "\n",
    "    data = []\n",
    "    for i in final:\n",
    "        if len(i) == 3:\n",
    "            data.append(i)\n",
    "        else:\n",
    "            data.append(i)\n",
    "    return data\n",
    "\n",
    "def regroup_upper(lst):\n",
    "    sublists = []\n",
    "    data = []\n",
    "\n",
    "    for idx in range(0, len(lst), 3):\n",
    "        pair = lst[idx:idx+2]\n",
    "        triplet = lst[idx+1:idx+4]\n",
    "\n",
    "        if len(pair) == 2:\n",
    "            sublists.append(pair)\n",
    "\n",
    "        if len(triplet) == 3:\n",
    "            sublists.append(triplet)\n",
    "    for i in sublists:\n",
    "        if len(i) == 3:\n",
    "            data.append(i)\n",
    "        else:\n",
    "            data.append(i)\n",
    "    return data\n",
    "\n",
    "\n",
    "groups_upper = regroup_upper(upper.atoms.indices)\n",
    "groups_lower = regroup_lower(lower.atoms.indices)\n",
    "groups_upper_down = regroup_lower(upper_down.atoms.indices)\n",
    "groups_lower_up = regroup_upper(lower_up.atoms.indices)\n",
    "\n",
    "for i in range(len(groups_upper)):\n",
    "        if i % 2 == 0:\n",
    "            hexagon_indices.append([groups_lower_up[i][0], groups_lower_up[i][1], groups_lower[i]\n",
    "                                   [0], groups_lower[i][2], groups_upper[i][0], groups_upper[i][1], groups_lower[i][1]])\n",
    "\n",
    "        else:\n",
    "            hexagon_indices.append([groups_lower[i][0], groups_lower[i][1], groups_upper[i]\n",
    "                                   [0], groups_upper[i][2], groups_upper_down[i][0], groups_upper_down[i][1], groups_upper[i][1]])"
   ]
  },
  {
   "cell_type": "code",
   "execution_count": 107,
   "id": "7dcf2a89-c4d3-42b9-8433-21c57afe7145",
   "metadata": {},
   "outputs": [
    {
     "name": "stdout",
     "output_type": "stream",
     "text": [
      "[[24, 25, 30, 32, 0, 1, 31], [32, 33, 1, 3, 8, 9, 2], [27, 28, 33, 35, 3, 4, 34]]\n"
     ]
    }
   ],
   "source": [
    "print(hexagon_indices)"
   ]
  },
  {
   "cell_type": "code",
   "execution_count": 132,
   "id": "8bba849b-c305-4b24-94f8-13622b591f81",
   "metadata": {},
   "outputs": [
    {
     "data": {
      "text/plain": [
       "[[7, 0, 1, 12, 13],\n",
       " [10, 3, 4, 15, 16],\n",
       " [14, 8, 9, 20, 21],\n",
       " [19, 12, 13, 24, 25],\n",
       " [22, 15, 16, 27, 28],\n",
       " [26, 20, 21, 32, 33],\n",
       " [31, 24, 25, 0, 1],\n",
       " [2, 32, 33, 8, 9],\n",
       " [34, 27, 28, 3, 4]]"
      ]
     },
     "execution_count": 132,
     "metadata": {},
     "output_type": "execute_result"
    }
   ],
   "source": [
    "for j in range(len(c)):\n",
    "    if j == 0:\n",
    "        group = u.atoms[u.atoms.positions[:, 1] == c[j]]\n",
    "        idx = group.atoms.indices\n",
    "        gr = np.arange(idx[2], idx[-1]+1, 3)\n",
    "        for k in gr:\n",
    "            u.atoms[k].mass = 0\n",
    "    elif (j != len(c) - 1) and (j % 2 != 0) and (j != 0):\n",
    "        group = u.atoms[u.atoms.positions[:, 1] == c[j]]\n",
    "        gr = np.arange(1, len(group), 3)\n",
    "\n",
    "        for k in gr:\n",
    "            u.atoms[group[k].index].mass = 0\n",
    "    elif (j != len(c) - 1) and (j % 2 == 0) and (j != 0):\n",
    "        group = u.atoms[u.atoms.positions[:, 1] == c[j]]\n",
    "        gr = np.arange(2, len(group), 3)\n",
    "\n",
    "        for k in gr:\n",
    "            u.atoms[group[k].index].mass = 0\n",
    "\n",
    "    elif j == len(c) - 1:\n",
    "        group = u.atoms[u.atoms.positions[:, 1] == c[j]]\n",
    "        idx = group.atoms.indices\n",
    "        gr = np.arange(idx[1], idx[-1]+1, 3)\n",
    "        for k in gr:\n",
    "            u.atoms[k].mass = 0\n",
    "\n",
    "\n",
    "def regroup_lower(lst):\n",
    "    final = []\n",
    "\n",
    "    threes = [lst[i:i+3] for i in range(0, len(lst), 3)]\n",
    "    for l, r in zip(threes, threes[1:]):\n",
    "        final.append(l)\n",
    "        final.append([l[-1], r[0]])\n",
    "    if len(threes[-1]) > 1:\n",
    "        final.append(threes[-1])\n",
    "\n",
    "    data = []\n",
    "    for i in final:\n",
    "        if len(i) == 3:\n",
    "            data.append(i)\n",
    "        else:\n",
    "            data.append(i)\n",
    "    return data\n",
    "\n",
    "def regroup_upper(lst):\n",
    "    sublists = []\n",
    "    data = []\n",
    "\n",
    "    for idx in range(0, len(lst), 3):\n",
    "        pair = lst[idx:idx+2]\n",
    "        triplet = lst[idx+1:idx+4]\n",
    "\n",
    "        if len(pair) == 2:\n",
    "            sublists.append(pair)\n",
    "\n",
    "        if len(triplet) == 3:\n",
    "            sublists.append(triplet)\n",
    "    for i in sublists:\n",
    "        if len(i) == 3:\n",
    "            data.append(i)\n",
    "        else:\n",
    "            data.append(i)\n",
    "    return data\n",
    "\n",
    "def hexagon(universe):\n",
    "    idx_top = u.atoms[u.atoms.positions[:, 1] == c[0]]\n",
    "    idx_bottom = u.atoms[u.atoms.positions[:, 1] == c[-1]]\n",
    "\n",
    "    sel = u.atoms[(u.atoms.masses == 0)]\n",
    "    sel1 = sel.atoms[sel.atoms.positions[:, 0]\n",
    "                     == np.max(sel.atoms.positions[:, 0])]\n",
    "    idx = u.atoms - idx_top - idx_bottom - sel1\n",
    "\n",
    "    b = idx.atoms[idx.atoms.masses == 0].indices\n",
    "\n",
    "    hexagon_indices = []\n",
    "    for i in b:\n",
    "        empty = []\n",
    "        for j in u.atoms.indices:\n",
    "            if (2.55 <= calc_bonds(u.atoms[j].position, u.atoms[i].position) <= 2.57):\n",
    "                empty.append(j)\n",
    "        empty.append(i)\n",
    "        hexagon_indices.append(empty)\n",
    "\n",
    "    '''\n",
    "    Hexagons along the horizontal, or the x-axis\n",
    "    '''\n",
    "    upper = u.atoms[u.atoms.positions[:, 1] == c[0]]\n",
    "    lower = u.atoms[u.atoms.positions[:, 1] == c[-1]]\n",
    "    upper_down = u.atoms[u.atoms.positions[:, 1] == c[1]]\n",
    "    lower_up = u.atoms[u.atoms.positions[:, 1] == c[-2]]\n",
    "\n",
    "    groups_upper = regroup_upper(upper.atoms.indices)\n",
    "    groups_lower = regroup_lower(lower.atoms.indices)\n",
    "    groups_upper_down = regroup_lower(upper_down.atoms.indices)\n",
    "    groups_lower_up = regroup_upper(lower_up.atoms.indices)\n",
    "    for i in range(len(groups_upper)):\n",
    "        if i % 2 == 0:\n",
    "            hexagon_indices.append([groups_lower_up[i][0], groups_lower_up[i][1], groups_lower[i]\n",
    "                                   [0], groups_lower[i][2], groups_upper[i][0], groups_upper[i][1], groups_lower[i][1]])\n",
    "\n",
    "        else:\n",
    "            hexagon_indices.append([groups_lower[i][0], groups_lower[i][1], groups_upper[i]\n",
    "                                   [0], groups_upper[i][2], groups_upper_down[i][0], groups_upper_down[i][1], groups_upper[i][1]])\n",
    "            \n",
    "    return hexagon_indices\n",
    "    \n",
    "\n",
    "\n",
    "vs = hexagon(u)\n",
    "hexagons = [hex[:-1] for hex in vs]\n",
    "def virtual_sites(vs):\n",
    "    virtual_indices = []\n",
    "    for hex in vs:\n",
    "        virtual_indices.append([hex[-1], hex[0], hex[1], hex[4], hex[5]])\n",
    "    return virtual_indices\n",
    "\n",
    "virtual_sites(vs)\n",
    "\n"
   ]
  },
  {
   "cell_type": "code",
   "execution_count": 133,
   "id": "1536a7cb-a0c5-4767-933c-a9fde7808c22",
   "metadata": {},
   "outputs": [
    {
     "data": {
      "text/plain": [
       "[[0, 1, 6, 8, 12, 13],\n",
       " [3, 4, 9, 11, 15, 16],\n",
       " [8, 9, 13, 15, 20, 21],\n",
       " [12, 13, 18, 20, 24, 25],\n",
       " [15, 16, 21, 23, 27, 28],\n",
       " [20, 21, 25, 27, 32, 33],\n",
       " [24, 25, 30, 32, 0, 1],\n",
       " [32, 33, 1, 3, 8, 9],\n",
       " [27, 28, 33, 35, 3, 4]]"
      ]
     },
     "execution_count": 133,
     "metadata": {},
     "output_type": "execute_result"
    }
   ],
   "source": [
    "hexagons"
   ]
  },
  {
   "cell_type": "code",
   "execution_count": 127,
   "id": "e0d12014-223d-42d5-96ce-26fc4d091570",
   "metadata": {},
   "outputs": [
    {
     "data": {
      "text/plain": [
       "[[0, 1, 6, 8, 12, 13, 7],\n",
       " [3, 4, 9, 11, 15, 16, 10],\n",
       " [8, 9, 13, 15, 20, 21, 14],\n",
       " [12, 13, 18, 20, 24, 25, 19],\n",
       " [15, 16, 21, 23, 27, 28, 22],\n",
       " [20, 21, 25, 27, 32, 33, 26],\n",
       " [24, 25, 30, 32, 0, 1, 31],\n",
       " [32, 33, 1, 3, 8, 9, 2],\n",
       " [27, 28, 33, 35, 3, 4, 34]]"
      ]
     },
     "execution_count": 127,
     "metadata": {},
     "output_type": "execute_result"
    }
   ],
   "source": [
    "vs"
   ]
  },
  {
   "cell_type": "code",
   "execution_count": 130,
   "id": "156d75ea-d9b2-4991-81d7-9c9754a016c7",
   "metadata": {},
   "outputs": [],
   "source": [
    "def virtual_sites(vs):\n",
    "    virtual_indices = []\n",
    "    for hex in vs:\n",
    "        virtual_indices.append([hex[-1], hex[0], hex[1], hex[4], hex[5]])\n",
    "    return virtual_indices\n",
    "    "
   ]
  },
  {
   "cell_type": "code",
   "execution_count": 131,
   "id": "527553ea-e86b-433f-8828-bb4dddc5a195",
   "metadata": {},
   "outputs": [
    {
     "data": {
      "text/plain": [
       "[[7, 0, 1, 12, 13],\n",
       " [10, 3, 4, 15, 16],\n",
       " [14, 8, 9, 20, 21],\n",
       " [19, 12, 13, 24, 25],\n",
       " [22, 15, 16, 27, 28],\n",
       " [26, 20, 21, 32, 33],\n",
       " [31, 24, 25, 0, 1],\n",
       " [2, 32, 33, 8, 9],\n",
       " [34, 27, 28, 3, 4]]"
      ]
     },
     "execution_count": 131,
     "metadata": {},
     "output_type": "execute_result"
    }
   ],
   "source": [
    "virtual_sites(vs)"
   ]
  },
  {
   "cell_type": "code",
   "execution_count": 122,
   "id": "b7c96b6d-e370-48cf-af08-ac421018b1dc",
   "metadata": {},
   "outputs": [
    {
     "data": {
      "text/plain": [
       "[0, 1, 6, 8, 12, 13, 7]"
      ]
     },
     "execution_count": 122,
     "metadata": {},
     "output_type": "execute_result"
    }
   ],
   "source": [
    "hexagon(u)[0]"
   ]
  },
  {
   "cell_type": "code",
   "execution_count": 134,
   "id": "5195d590-1797-4fdb-84d3-f74505c0d598",
   "metadata": {},
   "outputs": [],
   "source": [
    "def virtual_sites(hexagons):\n",
    "    virtual_indices = []\n",
    "    for hex in hexagons:\n",
    "        virtual_indices.append([hex[0], hex[1], hex[-3], hex[-2]])\n",
    "    return virtual_indices\n",
    "    "
   ]
  },
  {
   "cell_type": "code",
   "execution_count": 135,
   "id": "7c50bd53-9add-4ca9-926b-fac17ba708f1",
   "metadata": {},
   "outputs": [
    {
     "data": {
      "text/plain": [
       "[[0, 1, 8, 12],\n",
       " [3, 4, 11, 15],\n",
       " [8, 9, 15, 20],\n",
       " [12, 13, 20, 24],\n",
       " [15, 16, 23, 27],\n",
       " [20, 21, 27, 32],\n",
       " [24, 25, 32, 0],\n",
       " [32, 33, 3, 8],\n",
       " [27, 28, 35, 3]]"
      ]
     },
     "execution_count": 135,
     "metadata": {},
     "output_type": "execute_result"
    }
   ],
   "source": [
    "virtual_sites(hexagons)"
   ]
  },
  {
   "cell_type": "code",
   "execution_count": 136,
   "id": "97eb0318-4350-46c7-97b3-b882f352998c",
   "metadata": {},
   "outputs": [
    {
     "data": {
      "text/plain": [
       "[[0, 1, 6, 8, 12, 13, 7],\n",
       " [3, 4, 9, 11, 15, 16, 10],\n",
       " [8, 9, 13, 15, 20, 21, 14],\n",
       " [12, 13, 18, 20, 24, 25, 19],\n",
       " [15, 16, 21, 23, 27, 28, 22],\n",
       " [20, 21, 25, 27, 32, 33, 26],\n",
       " [24, 25, 30, 32, 0, 1, 31],\n",
       " [32, 33, 1, 3, 8, 9, 2],\n",
       " [27, 28, 33, 35, 3, 4, 34]]"
      ]
     },
     "execution_count": 136,
     "metadata": {},
     "output_type": "execute_result"
    }
   ],
   "source": [
    "vs"
   ]
  },
  {
   "cell_type": "code",
   "execution_count": 139,
   "id": "815d9b97-f228-4204-b97a-a6b7fc05ddd9",
   "metadata": {},
   "outputs": [],
   "source": [
    "def virtual_sites(vs):\n",
    "    virtual_indices = []\n",
    "    for hex in vs:\n",
    "        virtual_indices.append([hex[-1], hex[0], hex[1], hex[4], hex[5]])\n",
    "    return virtual_indices\n",
    "    "
   ]
  },
  {
   "cell_type": "code",
   "execution_count": 140,
   "id": "5666a54a-6624-4cea-ba0a-a9f50fc76df2",
   "metadata": {},
   "outputs": [
    {
     "data": {
      "text/plain": [
       "[[7, 0, 1, 12, 13],\n",
       " [10, 3, 4, 15, 16],\n",
       " [14, 8, 9, 20, 21],\n",
       " [19, 12, 13, 24, 25],\n",
       " [22, 15, 16, 27, 28],\n",
       " [26, 20, 21, 32, 33],\n",
       " [31, 24, 25, 0, 1],\n",
       " [2, 32, 33, 8, 9],\n",
       " [34, 27, 28, 3, 4]]"
      ]
     },
     "execution_count": 140,
     "metadata": {},
     "output_type": "execute_result"
    }
   ],
   "source": [
    "virtual_sites(vs)"
   ]
  },
  {
   "cell_type": "code",
   "execution_count": 141,
   "id": "78fd96d2-4a07-48b6-a4fe-7a9796db1dff",
   "metadata": {},
   "outputs": [
    {
     "data": {
      "text/plain": [
       "[[0, 1, 6, 8, 12, 13, 7],\n",
       " [3, 4, 9, 11, 15, 16, 10],\n",
       " [8, 9, 13, 15, 20, 21, 14],\n",
       " [12, 13, 18, 20, 24, 25, 19],\n",
       " [15, 16, 21, 23, 27, 28, 22],\n",
       " [20, 21, 25, 27, 32, 33, 26],\n",
       " [24, 25, 30, 32, 0, 1, 31],\n",
       " [32, 33, 1, 3, 8, 9, 2],\n",
       " [27, 28, 33, 35, 3, 4, 34]]"
      ]
     },
     "execution_count": 141,
     "metadata": {},
     "output_type": "execute_result"
    }
   ],
   "source": [
    "vs"
   ]
  },
  {
   "cell_type": "code",
   "execution_count": 144,
   "id": "daee4366-9012-47a4-b88f-cebfa25bc189",
   "metadata": {},
   "outputs": [
    {
     "name": "stdout",
     "output_type": "stream",
     "text": [
      "7       0       1       6       8       12      13 \n",
      "10      3       4       9       11      15      16 \n",
      "14      8       9       13      15      20      21 \n",
      "19      12      13      18      20      24      25 \n",
      "22      15      16      21      23      27      28 \n",
      "26      20      21      25      27      32      33 \n",
      "31      24      25      30      32      0       1  \n",
      "2       32      33      1       3       8       9  \n",
      "34      27      28      33      35      3       4  \n"
     ]
    }
   ],
   "source": [
    "for i in vs:\n",
    "    print(f\"{i[-1]:<3}     {i[0]:<3}     {i[1]:<3}     {i[2]:<3}     {i[3]:<3}     {i[4]:<3}     {i[5]:<3}\")\n",
    "        "
   ]
  },
  {
   "cell_type": "code",
   "execution_count": 145,
   "id": "1ac29f07-0468-459b-999b-b2689bb19312",
   "metadata": {},
   "outputs": [
    {
     "data": {
      "text/plain": [
       "list"
      ]
     },
     "execution_count": 145,
     "metadata": {},
     "output_type": "execute_result"
    }
   ],
   "source": [
    "type(vs)"
   ]
  },
  {
   "cell_type": "code",
   "execution_count": 147,
   "id": "61b60c65-ed45-4d84-b481-fc44c9a96346",
   "metadata": {},
   "outputs": [
    {
     "data": {
      "text/plain": [
       "array([[ 1,  2,  7,  9, 13, 14,  8],\n",
       "       [ 4,  5, 10, 12, 16, 17, 11],\n",
       "       [ 9, 10, 14, 16, 21, 22, 15],\n",
       "       [13, 14, 19, 21, 25, 26, 20],\n",
       "       [16, 17, 22, 24, 28, 29, 23],\n",
       "       [21, 22, 26, 28, 33, 34, 27],\n",
       "       [25, 26, 31, 33,  1,  2, 32],\n",
       "       [33, 34,  2,  4,  9, 10,  3],\n",
       "       [28, 29, 34, 36,  4,  5, 35]])"
      ]
     },
     "execution_count": 147,
     "metadata": {},
     "output_type": "execute_result"
    }
   ],
   "source": [
    "np.array(vs) + 1"
   ]
  },
  {
   "cell_type": "code",
   "execution_count": 148,
   "id": "94301206-6f6c-4818-81ea-5afd566cdcdf",
   "metadata": {},
   "outputs": [],
   "source": [
    "vs = np.array(vs) +1"
   ]
  },
  {
   "cell_type": "code",
   "execution_count": 149,
   "id": "4fc0e091-ec3f-40dd-8eed-744ea450ff5d",
   "metadata": {},
   "outputs": [
    {
     "data": {
      "text/plain": [
       "array([[ 1,  2,  7,  9, 13, 14,  8],\n",
       "       [ 4,  5, 10, 12, 16, 17, 11],\n",
       "       [ 9, 10, 14, 16, 21, 22, 15],\n",
       "       [13, 14, 19, 21, 25, 26, 20],\n",
       "       [16, 17, 22, 24, 28, 29, 23],\n",
       "       [21, 22, 26, 28, 33, 34, 27],\n",
       "       [25, 26, 31, 33,  1,  2, 32],\n",
       "       [33, 34,  2,  4,  9, 10,  3],\n",
       "       [28, 29, 34, 36,  4,  5, 35]])"
      ]
     },
     "execution_count": 149,
     "metadata": {},
     "output_type": "execute_result"
    }
   ],
   "source": [
    "vs"
   ]
  },
  {
   "cell_type": "code",
   "execution_count": 150,
   "id": "0d4bcfff-c571-43a2-92ad-33014f3e85ba",
   "metadata": {},
   "outputs": [
    {
     "name": "stdout",
     "output_type": "stream",
     "text": [
      "8       1       2       7       9       13      14 \n",
      "11      4       5       10      12      16      17 \n",
      "15      9       10      14      16      21      22 \n",
      "20      13      14      19      21      25      26 \n",
      "23      16      17      22      24      28      29 \n",
      "27      21      22      26      28      33      34 \n",
      "32      25      26      31      33      1       2  \n",
      "3       33      34      2       4       9       10 \n",
      "35      28      29      34      36      4       5  \n"
     ]
    }
   ],
   "source": [
    "for i in vs:\n",
    "    print(f\"{i[-1]:<3}     {i[0]:<3}     {i[1]:<3}     {i[2]:<3}     {i[3]:<3}     {i[4]:<3}     {i[5]:<3}\")\n",
    "        "
   ]
  },
  {
   "cell_type": "code",
   "execution_count": 151,
   "id": "0c0d24b6-2648-4728-a43c-4836d127b955",
   "metadata": {},
   "outputs": [
    {
     "data": {
      "text/plain": [
       "array([[ 1,  2,  7,  9, 13, 14,  8],\n",
       "       [ 4,  5, 10, 12, 16, 17, 11],\n",
       "       [ 9, 10, 14, 16, 21, 22, 15],\n",
       "       [13, 14, 19, 21, 25, 26, 20],\n",
       "       [16, 17, 22, 24, 28, 29, 23],\n",
       "       [21, 22, 26, 28, 33, 34, 27],\n",
       "       [25, 26, 31, 33,  1,  2, 32],\n",
       "       [33, 34,  2,  4,  9, 10,  3],\n",
       "       [28, 29, 34, 36,  4,  5, 35]])"
      ]
     },
     "execution_count": 151,
     "metadata": {},
     "output_type": "execute_result"
    }
   ],
   "source": [
    "vs"
   ]
  },
  {
   "cell_type": "code",
   "execution_count": 153,
   "id": "cc141ad3-239a-403c-a1e9-557e4e484b1a",
   "metadata": {},
   "outputs": [],
   "source": [
    "for j in range(len(c)):\n",
    "    if j == 0:\n",
    "        group = u.atoms[u.atoms.positions[:, 1] == c[j]]\n",
    "        idx = group.atoms.indices\n",
    "        gr = np.arange(idx[2], idx[-1]+1, 3)\n",
    "        for k in gr:\n",
    "            u.atoms[k].mass = 0\n",
    "    elif (j != len(c) - 1) and (j % 2 != 0) and (j != 0):\n",
    "        group = u.atoms[u.atoms.positions[:, 1] == c[j]]\n",
    "        gr = np.arange(1, len(group), 3)\n",
    "\n",
    "        for k in gr:\n",
    "            u.atoms[group[k].index].mass = 0\n",
    "    elif (j != len(c) - 1) and (j % 2 == 0) and (j != 0):\n",
    "        group = u.atoms[u.atoms.positions[:, 1] == c[j]]\n",
    "        gr = np.arange(2, len(group), 3)\n",
    "\n",
    "        for k in gr:\n",
    "            u.atoms[group[k].index].mass = 0\n",
    "\n",
    "    elif j == len(c) - 1:\n",
    "        group = u.atoms[u.atoms.positions[:, 1] == c[j]]\n",
    "        idx = group.atoms.indices\n",
    "        gr = np.arange(idx[1], idx[-1]+1, 3)\n",
    "        for k in gr:\n",
    "            u.atoms[k].mass = 0\n",
    "\n",
    "\n",
    "def regroup_lower(lst):\n",
    "    final = []\n",
    "\n",
    "    threes = [lst[i:i+3] for i in range(0, len(lst), 3)]\n",
    "    for l, r in zip(threes, threes[1:]):\n",
    "        final.append(l)\n",
    "        final.append([l[-1], r[0]])\n",
    "    if len(threes[-1]) > 1:\n",
    "        final.append(threes[-1])\n",
    "\n",
    "    data = []\n",
    "    for i in final:\n",
    "        if len(i) == 3:\n",
    "            data.append(i)\n",
    "        else:\n",
    "            data.append(i)\n",
    "    return data\n",
    "\n",
    "def regroup_upper(lst):\n",
    "    sublists = []\n",
    "    data = []\n",
    "\n",
    "    for idx in range(0, len(lst), 3):\n",
    "        pair = lst[idx:idx+2]\n",
    "        triplet = lst[idx+1:idx+4]\n",
    "\n",
    "        if len(pair) == 2:\n",
    "            sublists.append(pair)\n",
    "\n",
    "        if len(triplet) == 3:\n",
    "            sublists.append(triplet)\n",
    "    for i in sublists:\n",
    "        if len(i) == 3:\n",
    "            data.append(i)\n",
    "        else:\n",
    "            data.append(i)\n",
    "    return data\n",
    "\n",
    "def hexagon(universe):\n",
    "    idx_top = u.atoms[u.atoms.positions[:, 1] == c[0]]\n",
    "    idx_bottom = u.atoms[u.atoms.positions[:, 1] == c[-1]]\n",
    "\n",
    "    sel = u.atoms[(u.atoms.masses == 0)]\n",
    "    sel1 = sel.atoms[sel.atoms.positions[:, 0]\n",
    "                     == np.max(sel.atoms.positions[:, 0])]\n",
    "    idx = u.atoms - idx_top - idx_bottom - sel1\n",
    "\n",
    "    b = idx.atoms[idx.atoms.masses == 0].indices\n",
    "\n",
    "    hexagon_indices = []\n",
    "    for i in b:\n",
    "        empty = []\n",
    "        for j in u.atoms.indices:\n",
    "            if (2.55 <= calc_bonds(u.atoms[j].position, u.atoms[i].position) <= 2.57):\n",
    "                empty.append(j)\n",
    "        empty.append(i)\n",
    "        hexagon_indices.append(empty)\n",
    "\n",
    "    '''\n",
    "    Hexagons along the horizontal, or the x-axis\n",
    "    '''\n",
    "    upper = u.atoms[u.atoms.positions[:, 1] == c[0]]\n",
    "    lower = u.atoms[u.atoms.positions[:, 1] == c[-1]]\n",
    "    upper_down = u.atoms[u.atoms.positions[:, 1] == c[1]]\n",
    "    lower_up = u.atoms[u.atoms.positions[:, 1] == c[-2]]\n",
    "\n",
    "    groups_upper = regroup_upper(upper.atoms.indices)\n",
    "    groups_lower = regroup_lower(lower.atoms.indices)\n",
    "    groups_upper_down = regroup_lower(upper_down.atoms.indices)\n",
    "    groups_lower_up = regroup_upper(lower_up.atoms.indices)\n",
    "    for i in range(len(groups_upper)):\n",
    "        if i % 2 == 0:\n",
    "            hexagon_indices.append([groups_lower_up[i][0], groups_lower_up[i][1], groups_lower[i]\n",
    "                                   [0], groups_lower[i][2], groups_upper[i][0], groups_upper[i][1], groups_lower[i][1]])\n",
    "\n",
    "        else:\n",
    "            hexagon_indices.append([groups_lower[i][0], groups_lower[i][1], groups_upper[i]\n",
    "                                   [0], groups_upper[i][2], groups_upper_down[i][0], groups_upper_down[i][1], groups_upper[i][1]])\n",
    "            \n",
    "    return hexagon_indices\n",
    "    \n",
    "\n",
    "\n",
    "vs = hexagon(u)\n",
    "hexagons = [hex[:-1] for hex in vs]\n",
    "def virtual_sites(vs):\n",
    "    virtual_indices = []\n",
    "    for hex in vs:\n",
    "        virtual_indices.append([hex[-1], hex[0], hex[1], hex[4], hex[5]])\n",
    "    return virtual_indices\n",
    "\n",
    "v_site = np.array(virtual_sites(vs)) + 1\n",
    "\n"
   ]
  },
  {
   "cell_type": "code",
   "execution_count": 154,
   "id": "0b1cb6e0-6b6e-40ac-b1c4-b61682362e68",
   "metadata": {},
   "outputs": [
    {
     "data": {
      "text/plain": [
       "array([[ 8,  1,  2, 13, 14],\n",
       "       [11,  4,  5, 16, 17],\n",
       "       [15,  9, 10, 21, 22],\n",
       "       [20, 13, 14, 25, 26],\n",
       "       [23, 16, 17, 28, 29],\n",
       "       [27, 21, 22, 33, 34],\n",
       "       [32, 25, 26,  1,  2],\n",
       "       [ 3, 33, 34,  9, 10],\n",
       "       [35, 28, 29,  4,  5]])"
      ]
     },
     "execution_count": 154,
     "metadata": {},
     "output_type": "execute_result"
    }
   ],
   "source": [
    "v_site"
   ]
  },
  {
   "cell_type": "code",
   "execution_count": 156,
   "id": "7a9d9ca4-2e3c-4a0b-986a-b7cf1f192222",
   "metadata": {},
   "outputs": [
    {
     "data": {
      "text/plain": [
       "array([ 0.  ,  2.22,  4.43,  6.65,  8.87, 11.09], dtype=float32)"
      ]
     },
     "execution_count": 156,
     "metadata": {},
     "output_type": "execute_result"
    }
   ],
   "source": [
    "c"
   ]
  },
  {
   "cell_type": "code",
   "execution_count": 161,
   "id": "70e5cf99-0a2b-4b46-92d7-9619bea7af3b",
   "metadata": {},
   "outputs": [
    {
     "name": "stdout",
     "output_type": "stream",
     "text": [
      "<Atom 1: B1 of type B of resname GRA, resid 1 and segid SYSTEM>\n",
      "<Atom 7: B7 of type B of resname GRA, resid 1 and segid SYSTEM>\n",
      "<Atom 13: B13 of type B of resname GRA, resid 1 and segid SYSTEM>\n",
      "<Atom 19: B19 of type B of resname GRA, resid 1 and segid SYSTEM>\n",
      "<Atom 25: B25 of type B of resname GRA, resid 1 and segid SYSTEM>\n",
      "<Atom 31: B31 of type B of resname GRA, resid 1 and segid SYSTEM>\n"
     ]
    }
   ],
   "source": [
    "for i in c:\n",
    "    print(u.atoms[u.atoms.positions[:,1] == i][0])"
   ]
  },
  {
   "cell_type": "code",
   "execution_count": 181,
   "id": "360fffce-3222-48d8-bafe-e09e1c6d0789",
   "metadata": {},
   "outputs": [
    {
     "name": "stdout",
     "output_type": "stream",
     "text": [
      "<Atom 5: B5 of type B of resname GRA, resid 1 and segid SYSTEM>\n",
      "<Atom 12: B12 of type B of resname GRA, resid 1 and segid SYSTEM>\n",
      "<Atom 17: B17 of type B of resname GRA, resid 1 and segid SYSTEM>\n",
      "<Atom 24: B24 of type B of resname GRA, resid 1 and segid SYSTEM>\n",
      "<Atom 29: B29 of type B of resname GRA, resid 1 and segid SYSTEM>\n",
      "<Atom 36: B36 of type B of resname GRA, resid 1 and segid SYSTEM>\n"
     ]
    }
   ],
   "source": [
    "for i in range(len(c)):\n",
    "    if i % 2 == 0:\n",
    "        print(u.atoms[u.atoms.positions[:,1] == c[i]][-2])\n",
    "    elif i %2 !=0:\n",
    "        print(u.atoms[u.atoms.positions[:,1] == c[i]][-1])\n",
    "    "
   ]
  },
  {
   "cell_type": "code",
   "execution_count": 168,
   "id": "ebdf7446-a51d-4e0f-b8ae-686f991fd26b",
   "metadata": {},
   "outputs": [
    {
     "data": {
      "text/plain": [
       "0.0"
      ]
     },
     "execution_count": 168,
     "metadata": {},
     "output_type": "execute_result"
    }
   ],
   "source": [
    "c[0]"
   ]
  },
  {
   "cell_type": "code",
   "execution_count": 176,
   "id": "95f89127-6493-410e-83ba-b4ac9466b788",
   "metadata": {},
   "outputs": [
    {
     "data": {
      "text/plain": [
       "2.22"
      ]
     },
     "execution_count": 176,
     "metadata": {},
     "output_type": "execute_result"
    }
   ],
   "source": [
    "c[1]"
   ]
  },
  {
   "cell_type": "code",
   "execution_count": 195,
   "id": "0f178ca4-1298-42a8-bf74-b7db6627b92f",
   "metadata": {},
   "outputs": [
    {
     "ename": "SyntaxError",
     "evalue": "invalid syntax (4039630443.py, line 1)",
     "output_type": "error",
     "traceback": [
      "\u001b[0;36m  File \u001b[0;32m\"/tmp/ipykernel_1186114/4039630443.py\"\u001b[0;36m, line \u001b[0;32m1\u001b[0m\n\u001b[0;31m    left = [u.atoms[u.atoms.positions[:,1] == c[i]][-2].index for i in range(len(c)) if i % 2 == 0 else u.atoms[u.atoms.positions[:,1] == c[i]][-1].index]\u001b[0m\n\u001b[0m                                                                                                   ^\u001b[0m\n\u001b[0;31mSyntaxError\u001b[0m\u001b[0;31m:\u001b[0m invalid syntax\n"
     ]
    }
   ],
   "source": [
    "left = [u.atoms[u.atoms.positions[:,1] == c[i]][-2].index   ese u.atoms[u.atoms.positions[:,1] == c[i]][-1].index if i % 2 == 0 for i in range(len(c))"
   ]
  },
  {
   "cell_type": "code",
   "execution_count": 194,
   "id": "1b3666ed-54ae-489a-9f35-29e9ca299947",
   "metadata": {},
   "outputs": [
    {
     "data": {
      "text/plain": [
       "[4, 16, 28]"
      ]
     },
     "execution_count": 194,
     "metadata": {},
     "output_type": "execute_result"
    }
   ],
   "source": [
    "left"
   ]
  },
  {
   "cell_type": "code",
   "execution_count": 198,
   "id": "a13f770f-d537-4305-9206-c5ce380b25f9",
   "metadata": {},
   "outputs": [],
   "source": [
    "right = [u.atoms[u.atoms.positions[:,1] == c[i]][-2].index if i % 2 == 0 else u.atoms[u.atoms.positions[:,1] == c[i]][-1].index for i in range(len(c))]"
   ]
  },
  {
   "cell_type": "code",
   "execution_count": 199,
   "id": "3f5abd69-3849-4bc6-9d89-e811ca52cfa7",
   "metadata": {},
   "outputs": [
    {
     "data": {
      "text/plain": [
       "[4, 11, 16, 23, 28, 35]"
      ]
     },
     "execution_count": 199,
     "metadata": {},
     "output_type": "execute_result"
    }
   ],
   "source": [
    "right"
   ]
  },
  {
   "cell_type": "code",
   "execution_count": 202,
   "id": "7561a213-6146-4c17-8322-33b96964fc98",
   "metadata": {},
   "outputs": [],
   "source": [
    "left = [u.atoms[u.atoms.positions[:,1] == i][0].index for i in c]"
   ]
  },
  {
   "cell_type": "code",
   "execution_count": 203,
   "id": "33dd07d4-1ad2-476c-abd5-51c239df896d",
   "metadata": {},
   "outputs": [
    {
     "data": {
      "text/plain": [
       "[0, 6, 12, 18, 24, 30]"
      ]
     },
     "execution_count": 203,
     "metadata": {},
     "output_type": "execute_result"
    }
   ],
   "source": [
    "right = [u.atoms[u.atoms.positions[:,1] == c[i]][-2].index if i % 2 == 0 else u.atoms[u.atoms.positions[:,1] == c[i]][-1].index for i in range(len(c))]\n",
    "left = [u.atoms[u.atoms.positions[:,1] == i][0].index for i in c]\n",
    "def regroup_side(lst):\n",
    "    sub_lst = lst[1:]\n",
    "    data = []\n",
    "    idx = 0\n",
    "    while idx < len(sub_lst):\n",
    "        if len(sub_lst[idx: idx + 3]) == 3:\n",
    "            data.append(sub_lst[idx: idx + 3])\n",
    "        idx +=2\n",
    "    return data\n",
    "vss = [u.atoms[u.atoms.positions[:,1] == c[i]][-1].index for i in range(len(c)) if i % 2 == 0 ]\n",
    "vss_use = vss[1:]\n",
    "lt = []\n",
    "\n",
    "for i in range(len(regroup_side(right))):\n",
    "    lt.append([vss_use[i], regroup_side(right)[i][0], regroup_side(left)[i][0], regroup_side(right)[i][1], regroup_side(left)[i][1], regroup_side(right)[i][2], regroup_side(left)[i][2]])\n"
   ]
  },
  {
   "cell_type": "code",
   "execution_count": 204,
   "id": "e9174e89-4323-4d08-a737-abe274163f99",
   "metadata": {},
   "outputs": [
    {
     "name": "stdout",
     "output_type": "stream",
     "text": [
      "6\n",
      "12\n",
      "18\n",
      "24\n",
      "30\n"
     ]
    }
   ],
   "source": [
    "hexs = []\n",
    "for i in range(1,len(left)):\n",
    "    hexs.append([right[0])\n",
    "    \n",
    "    "
   ]
  },
  {
   "cell_type": "code",
   "execution_count": 205,
   "id": "73c50951-648e-4722-a3a0-ef166cc237c1",
   "metadata": {},
   "outputs": [
    {
     "data": {
      "text/plain": [
       "[11, 16, 23, 28, 35]"
      ]
     },
     "execution_count": 205,
     "metadata": {},
     "output_type": "execute_result"
    }
   ],
   "source": [
    "right[1:]"
   ]
  },
  {
   "cell_type": "code",
   "execution_count": 206,
   "id": "b3fb60a0-a076-46bf-a759-8f764b054037",
   "metadata": {},
   "outputs": [
    {
     "data": {
      "text/plain": [
       "[6, 12, 18, 24, 30]"
      ]
     },
     "execution_count": 206,
     "metadata": {},
     "output_type": "execute_result"
    }
   ],
   "source": [
    "left[1:]"
   ]
  },
  {
   "cell_type": "code",
   "execution_count": 207,
   "id": "51fc9fca-fd3c-4fb9-a94f-e149686242c4",
   "metadata": {},
   "outputs": [
    {
     "name": "stderr",
     "output_type": "stream",
     "text": [
      "/home/rshrestha/.local/lib/python3.9/site-packages/MDAnalysis/coordinates/GRO.py:229: UserWarning: Empty box [0., 0., 0.] found - treating as missing unit cell. Dimensions set to `None`.\n",
      "  warnings.warn(wmsg)\n"
     ]
    }
   ],
   "source": [
    "v = mda.Universe('test_big.gro')"
   ]
  },
  {
   "cell_type": "code",
   "execution_count": 210,
   "id": "74da21f4-6f9a-476f-957d-d7fe50fac2aa",
   "metadata": {},
   "outputs": [],
   "source": [
    "d = np.unique(v.atoms.positions[:, 1])"
   ]
  },
  {
   "cell_type": "code",
   "execution_count": 211,
   "id": "831beeb7-a284-4943-a7ed-a76198a3cd0d",
   "metadata": {},
   "outputs": [
    {
     "data": {
      "text/plain": [
       "array([ 0.  ,  2.22,  4.43,  6.65,  8.87, 11.09, 13.3 , 15.52, 17.74,\n",
       "       19.95, 22.17, 24.39], dtype=float32)"
      ]
     },
     "execution_count": 211,
     "metadata": {},
     "output_type": "execute_result"
    }
   ],
   "source": [
    "d"
   ]
  },
  {
   "cell_type": "code",
   "execution_count": 212,
   "id": "e6151625-5e7a-4465-9f68-01f640211e6b",
   "metadata": {},
   "outputs": [],
   "source": [
    "l = [v.atoms[v.atoms.positions[:,1] == i][0].index for i in d]"
   ]
  },
  {
   "cell_type": "code",
   "execution_count": 213,
   "id": "5bc2104b-fb67-4c21-89e0-d512db2a1017",
   "metadata": {},
   "outputs": [
    {
     "data": {
      "text/plain": [
       "[0, 12, 24, 36, 48, 60, 72, 84, 96, 108, 120, 132]"
      ]
     },
     "execution_count": 213,
     "metadata": {},
     "output_type": "execute_result"
    }
   ],
   "source": [
    "l"
   ]
  },
  {
   "cell_type": "code",
   "execution_count": 214,
   "id": "0470a43c-cc48-444a-a316-2e9c212b11fd",
   "metadata": {},
   "outputs": [],
   "source": [
    "r = [v.atoms[v.atoms.positions[:,1] == d[i]][-2].index if i % 2 == 0 else v.atoms[v.atoms.positions[:,1] == d[i]][-1].index for i in range(len(d))]"
   ]
  },
  {
   "cell_type": "code",
   "execution_count": 215,
   "id": "6257d577-fcdb-4f72-af14-15326dedde6e",
   "metadata": {},
   "outputs": [
    {
     "data": {
      "text/plain": [
       "[10, 23, 34, 47, 58, 71, 82, 95, 106, 119, 130, 143]"
      ]
     },
     "execution_count": 215,
     "metadata": {},
     "output_type": "execute_result"
    }
   ],
   "source": [
    "r"
   ]
  },
  {
   "cell_type": "code",
   "execution_count": 216,
   "id": "c1ac4639-7c94-4316-8c56-194cf2d4029b",
   "metadata": {},
   "outputs": [
    {
     "data": {
      "text/plain": [
       "[23, 34, 47, 58, 71, 82, 95, 106, 119, 130, 143]"
      ]
     },
     "execution_count": 216,
     "metadata": {},
     "output_type": "execute_result"
    }
   ],
   "source": [
    "r[1:]"
   ]
  },
  {
   "cell_type": "code",
   "execution_count": 217,
   "id": "a52bf050-0687-48ec-959b-00fae0d938e1",
   "metadata": {},
   "outputs": [
    {
     "data": {
      "text/plain": [
       "11"
      ]
     },
     "execution_count": 217,
     "metadata": {},
     "output_type": "execute_result"
    }
   ],
   "source": [
    "len(r[1:])"
   ]
  },
  {
   "cell_type": "code",
   "execution_count": null,
   "id": "a590f7e4-778c-488c-8d65-8f01c1401570",
   "metadata": {},
   "outputs": [],
   "source": [
    "def regroup_upper(lst):\n",
    "    sublists = []\n",
    "    data = []\n",
    "\n",
    "    for idx in range(0, len(lst), 3):\n",
    "        pair = lst[idx:idx+2]\n",
    "        triplet = lst[idx+1:idx+4]\n",
    "\n",
    "        if len(pair) == 2:\n",
    "            sublists.append(pair)\n",
    "\n",
    "        if len(triplet) == 3:\n",
    "            sublists.append(triplet)\n",
    "    for i in sublists:\n",
    "        if len(i) == 3:\n",
    "            data.append(i)\n",
    "        else:\n",
    "            data.append(i)\n",
    "    return data"
   ]
  },
  {
   "cell_type": "code",
   "execution_count": 223,
   "id": "4de9c010-210d-44e2-9960-a4b2aada463c",
   "metadata": {},
   "outputs": [],
   "source": [
    "sublists = []\n",
    "data = []\n",
    "lst = r[1:]\n",
    "idx = 0\n",
    "while idx < len(lst):\n",
    "    if len(lst[idx:idx+3]) == 3:\n",
    "        data.append(lst[idx:idx+3])\n",
    "\n",
    "    idx +=2\n"
   ]
  },
  {
   "cell_type": "code",
   "execution_count": 224,
   "id": "1e38f5fa-2e20-406d-84ad-7bb48cf66f0d",
   "metadata": {},
   "outputs": [
    {
     "data": {
      "text/plain": [
       "[[23, 34, 47], [47, 58, 71], [71, 82, 95], [95, 106, 119], [119, 130, 143]]"
      ]
     },
     "execution_count": 224,
     "metadata": {},
     "output_type": "execute_result"
    }
   ],
   "source": [
    "data"
   ]
  },
  {
   "cell_type": "code",
   "execution_count": 225,
   "id": "487e05e9-90a3-4254-b267-70eee4713929",
   "metadata": {},
   "outputs": [],
   "source": [
    "def regroup_side(lst):\n",
    "    sub_lst = lst[1:]\n",
    "    data = []\n",
    "    idx = 0\n",
    "    while idx < len(sub_lst):\n",
    "        if len(sub_lst[idx: idx + 3]) == 3:\n",
    "            data.append(sub_lst[idx: idx + 3])\n",
    "        idx +=2\n",
    "    return data"
   ]
  },
  {
   "cell_type": "code",
   "execution_count": 226,
   "id": "38ce59d6-909d-404c-90b1-e5b2560f90e5",
   "metadata": {},
   "outputs": [
    {
     "data": {
      "text/plain": [
       "[[12, 24, 36], [36, 48, 60], [60, 72, 84], [84, 96, 108], [108, 120, 132]]"
      ]
     },
     "execution_count": 226,
     "metadata": {},
     "output_type": "execute_result"
    }
   ],
   "source": [
    "regroup_side(l)"
   ]
  },
  {
   "cell_type": "code",
   "execution_count": 227,
   "id": "9989168c-4bce-49cf-904d-21806d6aee6f",
   "metadata": {},
   "outputs": [
    {
     "data": {
      "text/plain": [
       "[[23, 34, 47], [47, 58, 71], [71, 82, 95], [95, 106, 119], [119, 130, 143]]"
      ]
     },
     "execution_count": 227,
     "metadata": {},
     "output_type": "execute_result"
    }
   ],
   "source": [
    "regroup_side(r)"
   ]
  },
  {
   "cell_type": "code",
   "execution_count": 230,
   "id": "8f26dc52-ca0a-4548-a2bc-e0ff358f8252",
   "metadata": {},
   "outputs": [
    {
     "ename": "SyntaxError",
     "evalue": "invalid syntax (285878456.py, line 2)",
     "output_type": "error",
     "traceback": [
      "\u001b[0;36m  File \u001b[0;32m\"/tmp/ipykernel_1186114/285878456.py\"\u001b[0;36m, line \u001b[0;32m2\u001b[0m\n\u001b[0;31m    vs =\u001b[0m\n\u001b[0m         ^\u001b[0m\n\u001b[0;31mSyntaxError\u001b[0m\u001b[0;31m:\u001b[0m invalid syntax\n"
     ]
    }
   ],
   "source": [
    "lt = []\n",
    "\n",
    "for i in range(len(regroup_side(r))):\n",
    "    lt.append([regroup_side(r)[i][0], regroup_side(l)[i][0], regroup_side(r)[i][1], regroup_side(l)[i][1], regroup_side(r)[i][2], regroup_side(l)[i][2]])"
   ]
  },
  {
   "cell_type": "code",
   "execution_count": 231,
   "id": "cd370b86-10c5-43fd-9c1a-7d2227ef9b01",
   "metadata": {},
   "outputs": [
    {
     "data": {
      "text/plain": [
       "[[23, 12, 34, 24, 47, 36],\n",
       " [47, 36, 58, 48, 71, 60],\n",
       " [71, 60, 82, 72, 95, 84],\n",
       " [95, 84, 106, 96, 119, 108],\n",
       " [119, 108, 130, 120, 143, 132]]"
      ]
     },
     "execution_count": 231,
     "metadata": {},
     "output_type": "execute_result"
    }
   ],
   "source": [
    "lt"
   ]
  },
  {
   "cell_type": "code",
   "execution_count": 237,
   "id": "c9069ae7-fba6-4fc4-b155-44b93f6035ca",
   "metadata": {},
   "outputs": [],
   "source": [
    "vss = [v.atoms[v.atoms.positions[:,1] == d[i]][-1].index for i in range(len(d)) if i % 2 == 0 ]"
   ]
  },
  {
   "cell_type": "code",
   "execution_count": 238,
   "id": "5da2011b-7de8-4864-be7e-59e876f4f036",
   "metadata": {},
   "outputs": [
    {
     "data": {
      "text/plain": [
       "[11, 35, 59, 83, 107, 131]"
      ]
     },
     "execution_count": 238,
     "metadata": {},
     "output_type": "execute_result"
    }
   ],
   "source": [
    "vss"
   ]
  },
  {
   "cell_type": "code",
   "execution_count": 239,
   "id": "905e091f-c4df-46e5-9db0-a17722a1041d",
   "metadata": {},
   "outputs": [],
   "source": [
    "vss_use = vss[1:]"
   ]
  },
  {
   "cell_type": "code",
   "execution_count": 240,
   "id": "e262bed0-410f-4bbc-8100-7a70f4dab563",
   "metadata": {},
   "outputs": [],
   "source": [
    "lt = []\n",
    "\n",
    "for i in range(len(regroup_side(r))):\n",
    "    lt.append([vss_use[i], regroup_side(r)[i][0], regroup_side(l)[i][0], regroup_side(r)[i][1], regroup_side(l)[i][1], regroup_side(r)[i][2], regroup_side(l)[i][2]])"
   ]
  },
  {
   "cell_type": "code",
   "execution_count": 241,
   "id": "3cfbcd2a-827a-47c2-b361-043fe721c91f",
   "metadata": {},
   "outputs": [
    {
     "data": {
      "text/plain": [
       "[[35, 23, 12, 34, 24, 47, 36],\n",
       " [59, 47, 36, 58, 48, 71, 60],\n",
       " [83, 71, 60, 82, 72, 95, 84],\n",
       " [107, 95, 84, 106, 96, 119, 108],\n",
       " [131, 119, 108, 130, 120, 143, 132]]"
      ]
     },
     "execution_count": 241,
     "metadata": {},
     "output_type": "execute_result"
    }
   ],
   "source": [
    "lt"
   ]
  },
  {
   "cell_type": "code",
   "execution_count": 249,
   "id": "6dad73aa-fc0f-4dfb-8bcb-7588f60eb029",
   "metadata": {},
   "outputs": [],
   "source": [
    "\n",
    "# Setting mass of the virtual-site 0\n",
    "for j in range(len(c)):\n",
    "    if j == 0:\n",
    "        group = u.atoms[u.atoms.positions[:, 1] == c[j]]\n",
    "        idx = group.atoms.indices\n",
    "        gr = np.arange(idx[2], idx[-1]+1, 3)\n",
    "        for k in gr:\n",
    "            u.atoms[k].mass = 0\n",
    "    elif (j != len(c) - 1) and (j % 2 != 0) and (j != 0):\n",
    "        group = u.atoms[u.atoms.positions[:, 1] == c[j]]\n",
    "        gr = np.arange(1, len(group), 3)\n",
    "\n",
    "        for k in gr:\n",
    "            u.atoms[group[k].index].mass = 0\n",
    "    elif (j != len(c) - 1) and (j % 2 == 0) and (j != 0):\n",
    "        group = u.atoms[u.atoms.positions[:, 1] == c[j]]\n",
    "        gr = np.arange(2, len(group), 3)\n",
    "\n",
    "        for k in gr:\n",
    "            u.atoms[group[k].index].mass = 0\n",
    "\n",
    "    elif j == len(c) - 1:\n",
    "        group = u.atoms[u.atoms.positions[:, 1] == c[j]]\n",
    "        idx = group.atoms.indices\n",
    "        gr = np.arange(idx[1], idx[-1]+1, 3)\n",
    "        for k in gr:\n",
    "            u.atoms[k].mass = 0\n",
    "def regroup_lower(lst):\n",
    "    final = []\n",
    "\n",
    "    threes = [lst[i:i+3] for i in range(0, len(lst), 3)]\n",
    "    for l, r in zip(threes, threes[1:]):\n",
    "        final.append(l)\n",
    "        final.append([l[-1], r[0]])\n",
    "    if len(threes[-1]) > 1:\n",
    "        final.append(threes[-1])\n",
    "\n",
    "    data = []\n",
    "    for i in final:\n",
    "        if len(i) == 3:\n",
    "            data.append(i)\n",
    "        else:\n",
    "            data.append(i)\n",
    "    return data\n",
    "\n",
    "def regroup_upper(lst):\n",
    "    sublists = []\n",
    "    data = []\n",
    "\n",
    "    for idx in range(0, len(lst), 3):\n",
    "        pair = lst[idx:idx+2]\n",
    "        triplet = lst[idx+1:idx+4]\n",
    "\n",
    "        if len(pair) == 2:\n",
    "            sublists.append(pair)\n",
    "\n",
    "        if len(triplet) == 3:\n",
    "            sublists.append(triplet)\n",
    "    for i in sublists:\n",
    "        if len(i) == 3:\n",
    "            data.append(i)\n",
    "        else:\n",
    "            data.append(i)\n",
    "    return data\n",
    "\n",
    "def regroup_side(lst):\n",
    "    sub_lst = lst[1:]\n",
    "    data = []\n",
    "    idx = 0\n",
    "    while idx < len(sub_lst):\n",
    "        if len(sub_lst[idx: idx + 3]) == 3:\n",
    "            data.append(sub_lst[idx: idx + 3])\n",
    "        idx +=2\n",
    "    return data\n",
    "\n",
    "def hexagon(universe):\n",
    "    idx_top = u.atoms[u.atoms.positions[:, 1] == c[0]]\n",
    "    idx_bottom = u.atoms[u.atoms.positions[:, 1] == c[-1]]\n",
    "\n",
    "    sel = u.atoms[(u.atoms.masses == 0)]\n",
    "    sel1 = sel.atoms[sel.atoms.positions[:, 0]== np.max(sel.atoms.positions[:, 0])]\n",
    "    idx = u.atoms - idx_top - idx_bottom - sel1\n",
    "\n",
    "    b = idx.atoms[idx.atoms.masses == 0].indices\n",
    "\n",
    "    hexagon_indices = []\n",
    "    for i in b:\n",
    "        empty = []\n",
    "        for j in u.atoms.indices:\n",
    "            if (2.55 <= calc_bonds(u.atoms[j].position, u.atoms[i].position) <= 2.57):\n",
    "                empty.append(j)\n",
    "        empty.append(i)\n",
    "        hexagon_indices.append(empty)\n",
    "\n",
    "    '''\n",
    "    Hexagons along the horizontal, or the x-axis\n",
    "    '''\n",
    "    upper = u.atoms[u.atoms.positions[:, 1] == c[0]]\n",
    "    lower = u.atoms[u.atoms.positions[:, 1] == c[-1]]\n",
    "    upper_down = u.atoms[u.atoms.positions[:, 1] == c[1]]\n",
    "    lower_up = u.atoms[u.atoms.positions[:, 1] == c[-2]]\n",
    "\n",
    "    groups_upper = regroup_upper(upper.atoms.indices)\n",
    "    groups_lower = regroup_lower(lower.atoms.indices)\n",
    "    groups_upper_down = regroup_lower(upper_down.atoms.indices)\n",
    "    groups_lower_up = regroup_upper(lower_up.atoms.indices)\n",
    "    for i in range(len(groups_upper)):\n",
    "        if i % 2 == 0:\n",
    "            hexagon_indices.append([groups_lower_up[i][0], groups_lower_up[i][1], groups_lower[i]\n",
    "                                   [0], groups_lower[i][2], groups_upper[i][0], groups_upper[i][1], groups_lower[i][1]])\n",
    "\n",
    "        else:\n",
    "            hexagon_indices.append([groups_lower[i][0], groups_lower[i][1], groups_upper[i]\n",
    "                                   [0], groups_upper[i][2], groups_upper_down[i][0], groups_upper_down[i][1], groups_upper[i][1]])\n",
    "            \n",
    "    '''\n",
    "    Hexagons along the y-axis, or the vertical\n",
    "    '''\n",
    "    right = [u.atoms[u.atoms.positions[:,1] == c[i]][-2].index if i % 2 == 0 else u.atoms[u.atoms.positions[:,1] == c[i]][-1].index for i in range(len(c))]\n",
    "    left = [u.atoms[u.atoms.positions[:,1] == i][0].index for i in c]\n",
    "    vss = [u.atoms[u.atoms.positions[:,1] == c[i]][-1].index for i in range(len(c)) if i % 2 == 0 ]\n",
    "    vss_use = vss[1:]\n",
    "    for i in range(len(regroup_side(right))):\n",
    "        hexagon_indices.append([regroup_side(right)[i][0], regroup_side(left)[i][0], regroup_side(right)[i][1], regroup_side(left)[i][1], regroup_side(right)[i][2], regroup_side(left)[i][2]])\n",
    "            \n",
    "    return hexagon_indices"
   ]
  },
  {
   "cell_type": "code",
   "execution_count": 243,
   "id": "9320d4b9-9a4d-447b-a5e3-784835bdc460",
   "metadata": {},
   "outputs": [
    {
     "name": "stderr",
     "output_type": "stream",
     "text": [
      "/home/rshrestha/.local/lib/python3.9/site-packages/MDAnalysis/coordinates/GRO.py:229: UserWarning: Empty box [0., 0., 0.] found - treating as missing unit cell. Dimensions set to `None`.\n",
      "  warnings.warn(wmsg)\n"
     ]
    }
   ],
   "source": [
    "u = mda.Universe('example.gro')"
   ]
  },
  {
   "cell_type": "code",
   "execution_count": 244,
   "id": "10d8cf06-9daa-4562-bb0d-7812ae813fd6",
   "metadata": {},
   "outputs": [
    {
     "data": {
      "text/plain": [
       "<AtomGroup with 36 atoms>"
      ]
     },
     "execution_count": 244,
     "metadata": {},
     "output_type": "execute_result"
    }
   ],
   "source": [
    "u.atoms"
   ]
  },
  {
   "cell_type": "code",
   "execution_count": 245,
   "id": "7fb8c112-8bdd-4dce-8442-a321028d4f24",
   "metadata": {},
   "outputs": [],
   "source": [
    "c = np.unique(u.atoms.positions[:, 1])\n",
    "\n",
    "u.atoms.masses = 36"
   ]
  },
  {
   "cell_type": "code",
   "execution_count": 250,
   "id": "43dcaa01-d618-45cd-8093-0115b29eecbf",
   "metadata": {},
   "outputs": [],
   "source": [
    "hexagons = hexagon(u)"
   ]
  },
  {
   "cell_type": "code",
   "execution_count": 251,
   "id": "30d5e2f0-4c22-48e3-b3ed-6f464f75d34c",
   "metadata": {},
   "outputs": [
    {
     "name": "stdout",
     "output_type": "stream",
     "text": [
      "[[0, 1, 6, 8, 12, 13, 7], [3, 4, 9, 11, 15, 16, 10], [8, 9, 13, 15, 20, 21, 14], [12, 13, 18, 20, 24, 25, 19], [15, 16, 21, 23, 27, 28, 22], [20, 21, 25, 27, 32, 33, 26], [24, 25, 30, 32, 0, 1, 31], [32, 33, 1, 3, 8, 9, 2], [27, 28, 33, 35, 3, 4, 34], [17, 11, 6, 16, 12, 23, 18], [29, 23, 18, 28, 24, 35, 30]]\n"
     ]
    }
   ],
   "source": [
    "print(hexagons)"
   ]
  },
  {
   "cell_type": "code",
   "execution_count": 252,
   "id": "4f425bbf-d1b3-4a9f-ab1e-2e3870235869",
   "metadata": {},
   "outputs": [],
   "source": [
    "right = [u.atoms[u.atoms.positions[:,1] == c[i]][-2].index if i % 2 == 0 else u.atoms[u.atoms.positions[:,1] == c[i]][-1].index for i in range(len(c))]\n",
    "left = [u.atoms[u.atoms.positions[:,1] == i][0].index for i in c]\n",
    "vss = [u.atoms[u.atoms.positions[:,1] == c[i]][-1].index for i in range(len(c)) if i % 2 == 0 ]\n",
    "vss_use = vss[1:]"
   ]
  },
  {
   "cell_type": "code",
   "execution_count": 253,
   "id": "1d8f11a6-0890-4abe-8da1-49324e98d793",
   "metadata": {},
   "outputs": [
    {
     "data": {
      "text/plain": [
       "[17, 29]"
      ]
     },
     "execution_count": 253,
     "metadata": {},
     "output_type": "execute_result"
    }
   ],
   "source": [
    "vss_use"
   ]
  },
  {
   "cell_type": "code",
   "execution_count": null,
   "id": "688e00d1-6823-4eb8-8e84-92330f54c482",
   "metadata": {},
   "outputs": [],
   "source": []
  }
 ],
 "metadata": {
  "kernelspec": {
   "display_name": "Python 3 (ipykernel)",
   "language": "python",
   "name": "python3"
  },
  "language_info": {
   "codemirror_mode": {
    "name": "ipython",
    "version": 3
   },
   "file_extension": ".py",
   "mimetype": "text/x-python",
   "name": "python",
   "nbconvert_exporter": "python",
   "pygments_lexer": "ipython3",
   "version": "3.9.7"
  }
 },
 "nbformat": 4,
 "nbformat_minor": 5
}
